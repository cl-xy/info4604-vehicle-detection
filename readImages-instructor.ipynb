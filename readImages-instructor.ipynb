{
 "cells": [
  {
   "cell_type": "markdown",
   "id": "02b51c34",
   "metadata": {},
   "source": [
    "#### How to read images in a folder\n",
    "\n",
    "readImages.ipynb and trafficLightImages folder is being provided to help those who may need a little help in reading images from a file. There are many ways to read images and I am providing one example. The assumption is that the readImages.ipynb and trafficLightImages folder is in the same directory. Examine the directory structure of traffiLightImages folder. Also examine the images by clicking on them, just as you would clickin on any .jpg file.\n",
    "\n",
    "You will benefit from using the \"Basic classification: Classify images of clothing\" as a template for the TF/Keras model. "
   ]
  },
  {
   "cell_type": "code",
   "execution_count": 1,
   "id": "ea9896f9",
   "metadata": {},
   "outputs": [],
   "source": [
    "import random\n",
    "import glob\n",
    "import numpy as np\n",
    "import matplotlib.pyplot as plt\n",
    "import matplotlib.image as mpimg # for loading in images\n",
    "\n",
    "%matplotlib inline"
   ]
  },
  {
   "cell_type": "markdown",
   "id": "a1b25e18",
   "metadata": {},
   "source": [
    "#### Import images in a list from a file\n",
    "\n",
    "Notice the trafficLightImages/training/green has 4 files and we can verify the 4 file shave been read."
   ]
  },
  {
   "cell_type": "code",
   "execution_count": 2,
   "id": "9917f452",
   "metadata": {},
   "outputs": [
    {
     "name": "stdout",
     "output_type": "stream",
     "text": [
      "4\n",
      "4\n",
      "4\n",
      "12\n"
     ]
    }
   ],
   "source": [
    "im_list_green=[]\n",
    "im_list_red=[]\n",
    "im_list_yellow=[]\n",
    "im_list =[]\n",
    "std_im_list = []\n",
    "\n",
    "for file in glob.glob(\"trafficLightImages/training/green/*\"):\n",
    "    \n",
    "    # Read in the image\n",
    "    im = mpimg.imread(file)   \n",
    "            \n",
    "    # Append the image to the green image list\n",
    "    im_list_green.append((im, 2))\n",
    "    \n",
    "for file in glob.glob(\"trafficLightImages/training/red/*\"):\n",
    "    \n",
    "    # Read in the image\n",
    "    im = mpimg.imread(file)   \n",
    "            \n",
    "    # Append the image to the red image list\n",
    "    im_list_red.append((im, 0))\n",
    "    \n",
    "for file in glob.glob(\"trafficLightImages/training/yellow/*\"):\n",
    "    \n",
    "    # Read in the image\n",
    "    im = mpimg.imread(file)   \n",
    "            \n",
    "    # Append the image to the yellow image list\n",
    "    im_list_yellow.append((im, 1))\n",
    "    \n",
    "#print(im_list_yellow)    \n",
    "print(len(im_list_green))\n",
    "print(len(im_list_red))\n",
    "print(len(im_list_yellow))\n",
    "\n",
    "im_list = im_list_red + im_list_yellow + im_list_green\n",
    "print(len(im_list))"
   ]
  },
  {
   "cell_type": "markdown",
   "id": "2b652869",
   "metadata": {},
   "source": [
    "#### Explore the data\n",
    "\n",
    "Notice the image dimensions\n",
    "We will also explore the shape to verify the dimensions\n",
    "Images are of different dimensions, so we will have to standardize"
   ]
  },
  {
   "cell_type": "code",
   "execution_count": 3,
   "id": "69667b69",
   "metadata": {},
   "outputs": [
    {
     "name": "stdout",
     "output_type": "stream",
     "text": [
      "(93, 54, 3)\n"
     ]
    },
    {
     "data": {
      "text/plain": [
       "<matplotlib.image.AxesImage at 0x7f3af6acb700>"
      ]
     },
     "execution_count": 3,
     "metadata": {},
     "output_type": "execute_result"
    },
    {
     "data": {
      "image/png": "[encoded data removed]",
      "text/plain": [
       "<Figure size 1440x720 with 1 Axes>"
      ]
     },
     "metadata": {
      "needs_background": "light"
     },
     "output_type": "display_data"
    }
   ],
   "source": [
    "print(im_list[0][0].shape)\n",
    "f, (ax1) = plt.subplots(1, 1, figsize=(20, 10))\n",
    "ax1.set_title(im_list[0][1])\n",
    "ax1.imshow(im_list[0][0])"
   ]
  },
  {
   "cell_type": "markdown",
   "id": "1843ae38",
   "metadata": {},
   "source": [
    "#### Preprocess the data\n",
    "Standardize the image to 32X32X3 and verify the dimesions of the standardized image. It is of utmost importance that all images are of the same dimensions for training and testing the model. "
   ]
  },
  {
   "cell_type": "code",
   "execution_count": 4,
   "id": "2dc0e25e",
   "metadata": {},
   "outputs": [],
   "source": [
    "# This function should take in an RGB image and return a new, standardized version\n",
    "def standardize_input(image):\n",
    "    image_crop = np.copy(image)\n",
    "    row_crop = 7\n",
    "    col_crop = 8\n",
    "    image_crop = image[row_crop:-row_crop, col_crop:-col_crop, :]\n",
    "    ## TODO: Resize image and pre-process so that all \"standard\" images are the same size\n",
    "    standard_im = cv2.resize(image_crop, (32, 32))\n",
    "    return standard_im"
   ]
  },
  {
   "cell_type": "code",
   "execution_count": 5,
   "id": "3cb25ece",
   "metadata": {},
   "outputs": [],
   "source": [
    "import cv2 # helper functions\n",
    "\n",
    "def standardize(image_list):\n",
    "    \n",
    "    # Empty image data array\n",
    "    standard_list = []\n",
    "\n",
    "    # Iterate through all the image-label pairs\n",
    "    for item in image_list:\n",
    "        image = item[0]\n",
    "        label = item[1]\n",
    "\n",
    "        # Standardize the image\n",
    "        standardized_im = standardize_input(image)\n",
    "\n",
    "        # Append the image, and it's one hot encoded label to the full, processed list of image data \n",
    "        standard_list.append((standardized_im, label))\n",
    "        \n",
    "    return standard_list\n",
    "\n",
    "# Standardize all training images\n",
    "#STANDARDIZED_LIST = standardize(IMAGE_LIST)\n",
    "\n",
    "\n",
    "std_im_list = standardize(im_list)"
   ]
  },
  {
   "cell_type": "code",
   "execution_count": 6,
   "id": "cb562d49",
   "metadata": {},
   "outputs": [
    {
     "name": "stdout",
     "output_type": "stream",
     "text": [
      "(32, 32, 3)\n"
     ]
    },
    {
     "data": {
      "text/plain": [
       "<matplotlib.image.AxesImage at 0x7f3aeea5b730>"
      ]
     },
     "execution_count": 6,
     "metadata": {},
     "output_type": "execute_result"
    },
    {
     "data": {
      "image/png": "[encoded data removed]",
      "text/plain": [
       "<Figure size 1440x612 with 1 Axes>"
      ]
     },
     "metadata": {
      "needs_background": "light"
     },
     "output_type": "display_data"
    }
   ],
   "source": [
    "print(std_im_list[0][0].shape)\n",
    "f, (ax1) = plt.subplots(1, 1, figsize=(20,8.5))\n",
    "ax1.set_title(std_im_list[0][1])\n",
    "ax1.imshow(std_im_list[0][0])"
   ]
  },
  {
   "cell_type": "markdown",
   "id": "a6f63b12",
   "metadata": {},
   "source": [
    "Please ask questions if something does not make sense. You are alomost ready to train the model, but not quite. Review model.fit usage. What is missing? "
   ]
  },
  {
   "cell_type": "code",
   "execution_count": 7,
   "id": "5d0e1ae5",
   "metadata": {},
   "outputs": [
    {
     "name": "stdout",
     "output_type": "stream",
     "text": [
      "12\n",
      "[2, 1, 2, 0, 0, 1, 1, 0, 2, 2, 1, 0]\n"
     ]
    }
   ],
   "source": [
    "import random\n",
    "\n",
    "train_images = []\n",
    "train_labels = []\n",
    "\n",
    "print(len(std_im_list))\n",
    "random.shuffle(std_im_list)\n",
    "\n",
    "for im in std_im_list:\n",
    "    train_images.append(im[0])\n",
    "    train_labels.append(im[1])\n",
    "    \n",
    "print(train_labels)"
   ]
  },
  {
   "cell_type": "code",
   "execution_count": 8,
   "id": "ed9be723",
   "metadata": {},
   "outputs": [
    {
     "name": "stderr",
     "output_type": "stream",
     "text": [
      "2022-12-01 05:07:39.042565: I tensorflow/core/platform/cpu_feature_guard.cc:193] This TensorFlow binary is optimized with oneAPI Deep Neural Network Library (oneDNN) to use the following CPU instructions in performance-critical operations:  AVX2 AVX512F AVX512_VNNI FMA\n",
      "To enable them in other operations, rebuild TensorFlow with the appropriate compiler flags.\n",
      "2022-12-01 05:07:39.249863: I tensorflow/core/util/util.cc:169] oneDNN custom operations are on. You may see slightly different numerical results due to floating-point round-off errors from different computation orders. To turn them off, set the environment variable `TF_ENABLE_ONEDNN_OPTS=0`.\n",
      "2022-12-01 05:07:39.262914: W tensorflow/stream_executor/platform/default/dso_loader.cc:64] Could not load dynamic library 'libcudart.so.11.0'; dlerror: libcudart.so.11.0: cannot open shared object file: No such file or directory; LD_LIBRARY_PATH: /opt/conda/lib/python3.10/site-packages/cv2/../../lib64:\n",
      "2022-12-01 05:07:39.262947: I tensorflow/stream_executor/cuda/cudart_stub.cc:29] Ignore above cudart dlerror if you do not have a GPU set up on your machine.\n",
      "2022-12-01 05:07:39.296798: E tensorflow/stream_executor/cuda/cuda_blas.cc:2981] Unable to register cuBLAS factory: Attempting to register factory for plugin cuBLAS when one has already been registered\n",
      "2022-12-01 05:07:39.990009: W tensorflow/stream_executor/platform/default/dso_loader.cc:64] Could not load dynamic library 'libnvinfer.so.7'; dlerror: libnvinfer.so.7: cannot open shared object file: No such file or directory; LD_LIBRARY_PATH: /opt/conda/lib/python3.10/site-packages/cv2/../../lib64:\n",
      "2022-12-01 05:07:39.990117: W tensorflow/stream_executor/platform/default/dso_loader.cc:64] Could not load dynamic library 'libnvinfer_plugin.so.7'; dlerror: libnvinfer_plugin.so.7: cannot open shared object file: No such file or directory; LD_LIBRARY_PATH: /opt/conda/lib/python3.10/site-packages/cv2/../../lib64:\n",
      "2022-12-01 05:07:39.990131: W tensorflow/compiler/tf2tensorrt/utils/py_utils.cc:38] TF-TRT Warning: Cannot dlopen some TensorRT libraries. If you would like to use Nvidia GPU with TensorRT, please make sure the missing libraries mentioned above are installed properly.\n"
     ]
    },
    {
     "name": "stdout",
     "output_type": "stream",
     "text": [
      "2.10.0\n"
     ]
    },
    {
     "name": "stderr",
     "output_type": "stream",
     "text": [
      "2022-12-01 05:07:41.170431: W tensorflow/stream_executor/platform/default/dso_loader.cc:64] Could not load dynamic library 'libcuda.so.1'; dlerror: libcuda.so.1: cannot open shared object file: No such file or directory; LD_LIBRARY_PATH: /opt/conda/lib/python3.10/site-packages/cv2/../../lib64:\n",
      "2022-12-01 05:07:41.170481: W tensorflow/stream_executor/cuda/cuda_driver.cc:263] failed call to cuInit: UNKNOWN ERROR (303)\n",
      "2022-12-01 05:07:41.170520: I tensorflow/stream_executor/cuda/cuda_diagnostics.cc:156] kernel driver does not appear to be running on this host (jupyter-cyli6138): /proc/driver/nvidia/version does not exist\n",
      "2022-12-01 05:07:41.170993: I tensorflow/core/platform/cpu_feature_guard.cc:193] This TensorFlow binary is optimized with oneAPI Deep Neural Network Library (oneDNN) to use the following CPU instructions in performance-critical operations:  AVX2 AVX512F AVX512_VNNI FMA\n",
      "To enable them in other operations, rebuild TensorFlow with the appropriate compiler flags.\n"
     ]
    }
   ],
   "source": [
    "# TensorFlow and tf.keras\n",
    "import tensorflow as tf\n",
    "\n",
    "print(tf.__version__)\n",
    "model = tf.keras.Sequential([\n",
    "    tf.keras.layers.Flatten(input_shape=(32, 32, 3)),\n",
    "    tf.keras.layers.Dense(128, activation='relu'),\n",
    "    tf.keras.layers.Dense(3)\n",
    "])"
   ]
  },
  {
   "cell_type": "code",
   "execution_count": 9,
   "id": "56c03e77",
   "metadata": {},
   "outputs": [],
   "source": [
    "model.compile(optimizer='adam',\n",
    "              loss=tf.keras.losses.SparseCategoricalCrossentropy(from_logits=True),\n",
    "              metrics=['accuracy'])"
   ]
  },
  {
   "cell_type": "code",
   "execution_count": 10,
   "id": "317c47eb",
   "metadata": {},
   "outputs": [
    {
     "name": "stdout",
     "output_type": "stream",
     "text": [
      "Epoch 1/10\n",
      "1/1 [==============================] - 0s 436ms/step - loss: 49.6210 - accuracy: 0.1667\n",
      "Epoch 2/10\n",
      "1/1 [==============================] - 0s 5ms/step - loss: 941.6729 - accuracy: 0.3333\n",
      "Epoch 3/10\n",
      "1/1 [==============================] - 0s 4ms/step - loss: 392.7922 - accuracy: 0.3333\n",
      "Epoch 4/10\n",
      "1/1 [==============================] - 0s 4ms/step - loss: 70.3051 - accuracy: 0.6667\n",
      "Epoch 5/10\n",
      "1/1 [==============================] - 0s 4ms/step - loss: 175.2927 - accuracy: 0.6667\n",
      "Epoch 6/10\n",
      "1/1 [==============================] - 0s 4ms/step - loss: 135.4550 - accuracy: 0.5833\n",
      "Epoch 7/10\n",
      "1/1 [==============================] - 0s 4ms/step - loss: 45.7728 - accuracy: 0.7500\n",
      "Epoch 8/10\n",
      "1/1 [==============================] - 0s 4ms/step - loss: 6.4986 - accuracy: 0.9167\n",
      "Epoch 9/10\n",
      "1/1 [==============================] - 0s 4ms/step - loss: 72.8259 - accuracy: 0.5833\n",
      "Epoch 10/10\n",
      "1/1 [==============================] - 0s 4ms/step - loss: 47.4864 - accuracy: 0.7500\n"
     ]
    },
    {
     "data": {
      "text/plain": [
       "<keras.callbacks.History at 0x7f3a98673ac0>"
      ]
     },
     "execution_count": 10,
     "metadata": {},
     "output_type": "execute_result"
    }
   ],
   "source": [
    "train_images = np.array(train_images)\n",
    "train_labels = np.array(train_labels)\n",
    "model.fit(train_images, train_labels, epochs=10)"
   ]
  },
  {
   "cell_type": "code",
   "execution_count": null,
   "id": "4f921599",
   "metadata": {},
   "outputs": [],
   "source": []
  }
 ],
 "metadata": {
  "kernelspec": {
   "display_name": "Python 3 (ipykernel)",
   "language": "python",
   "name": "python3"
  },
  "language_info": {
   "codemirror_mode": {
    "name": "ipython",
    "version": 3
   },
   "file_extension": ".py",
   "mimetype": "text/x-python",
   "name": "python",
   "nbconvert_exporter": "python",
   "pygments_lexer": "ipython3",
   "version": "3.10.5"
  }
 },
 "nbformat": 4,
 "nbformat_minor": 5
}
