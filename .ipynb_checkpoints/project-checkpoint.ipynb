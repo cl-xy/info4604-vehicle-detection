{
 "cells": [
  {
   "cell_type": "code",
   "execution_count": 124,
   "metadata": {},
   "outputs": [],
   "source": [
    "import os\n",
    "import cv2 # pip install opencv-python\n",
    "import  pandas as pd\n",
    "import matplotlib.pyplot as plt\n",
    "import numpy as np\n",
    "import seaborn as sns\n",
    "from sklearn.model_selection import train_test_split\n",
    "import keras \n",
    "from glob import glob\n",
    "from keras.models import Sequential\n",
    "from keras.layers import BatchNormalization,MaxPool2D,Dense,Conv2D,Flatten\n",
    "from keras.callbacks import EarlyStopping,LearningRateScheduler\n",
    "from sklearn.svm import SVC\n",
    "import tensorflow as tf\n",
    "import numpy as np\n",
    "import matplotlib.pyplot as plt\n",
    "%matplotlib inline\n",
    "import warnings\n",
    "from tqdm import tqdm\n",
    "from PIL import Image\n",
    "warnings.filterwarnings('ignore')"
   ]
  },
  {
   "cell_type": "markdown",
   "metadata": {},
   "source": [
    "**1. Import the data**"
   ]
  },
  {
   "cell_type": "code",
   "execution_count": 125,
   "metadata": {},
   "outputs": [],
   "source": [
    "vehicle_dir = 'data/vehicles/'\n",
    "non_vehicle_dir = 'data/non-vehicles/'"
   ]
  },
  {
   "cell_type": "code",
   "execution_count": 126,
   "metadata": {},
   "outputs": [],
   "source": [
    "vehicle_names = os.listdir(vehicle_dir)\n",
    "non_vehicle_names = os.listdir(non_vehicle_dir)"
   ]
  },
  {
   "cell_type": "markdown",
   "metadata": {},
   "source": [
    "**2. Explore the data**"
   ]
  },
  {
   "cell_type": "code",
   "execution_count": 127,
   "metadata": {},
   "outputs": [
    {
     "name": "stdout",
     "output_type": "stream",
     "text": [
      "No of vehicle images: 8792\n",
      "No of non-vehicle images: 8968\n"
     ]
    }
   ],
   "source": [
    "print(\"No of vehicle images:\", len(vehicle_names))\n",
    "print(\"No of non-vehicle images:\", len(non_vehicle_names))"
   ]
  },
  {
   "cell_type": "markdown",
   "metadata": {},
   "source": [
    "**3. Prepare the Data**"
   ]
  },
  {
   "cell_type": "code",
   "execution_count": 128,
   "metadata": {},
   "outputs": [],
   "source": [
    "cat = {\n",
    "    'non-vehicles': 0,\n",
    "    'vehicles': 1\n",
    "}\n",
    "\n",
    "# get all the paths for vehicles and non-vehicles\n",
    "def get_paths(folder):\n",
    "    \n",
    "    path = []\n",
    "    labels = []\n",
    "    for dirname, _, filenames in os.walk(folder):\n",
    "        dir_class = dirname.split('/')[1] # either vehicles or non-vehicles\n",
    "        for filename in filenames:\n",
    "            path.append(os.path.join(dirname, filename))\n",
    "            labels.append(cat[dir_class])\n",
    "    \n",
    "    return pd.DataFrame({'path': path, 'class': labels})"
   ]
  },
  {
   "cell_type": "code",
   "execution_count": 96,
   "metadata": {},
   "outputs": [
    {
     "data": {
      "text/html": [
       "<div>\n",
       "<style scoped>\n",
       "    .dataframe tbody tr th:only-of-type {\n",
       "        vertical-align: middle;\n",
       "    }\n",
       "\n",
       "    .dataframe tbody tr th {\n",
       "        vertical-align: top;\n",
       "    }\n",
       "\n",
       "    .dataframe thead th {\n",
       "        text-align: right;\n",
       "    }\n",
       "</style>\n",
       "<table border=\"1\" class=\"dataframe\">\n",
       "  <thead>\n",
       "    <tr style=\"text-align: right;\">\n",
       "      <th></th>\n",
       "      <th>path</th>\n",
       "      <th>class</th>\n",
       "    </tr>\n",
       "  </thead>\n",
       "  <tbody>\n",
       "    <tr>\n",
       "      <th>0</th>\n",
       "      <td>data/vehicles/left (739).png</td>\n",
       "      <td>1</td>\n",
       "    </tr>\n",
       "    <tr>\n",
       "      <th>1</th>\n",
       "      <td>data/vehicles/far (366).png</td>\n",
       "      <td>1</td>\n",
       "    </tr>\n",
       "    <tr>\n",
       "      <th>2</th>\n",
       "      <td>data/vehicles/far (644).png</td>\n",
       "      <td>1</td>\n",
       "    </tr>\n",
       "    <tr>\n",
       "      <th>3</th>\n",
       "      <td>data/vehicles/1884.png</td>\n",
       "      <td>1</td>\n",
       "    </tr>\n",
       "    <tr>\n",
       "      <th>4</th>\n",
       "      <td>data/vehicles/5462.png</td>\n",
       "      <td>1</td>\n",
       "    </tr>\n",
       "  </tbody>\n",
       "</table>\n",
       "</div>"
      ],
      "text/plain": [
       "                           path  class\n",
       "0  data/vehicles/left (739).png      1\n",
       "1   data/vehicles/far (366).png      1\n",
       "2   data/vehicles/far (644).png      1\n",
       "3        data/vehicles/1884.png      1\n",
       "4        data/vehicles/5462.png      1"
      ]
     },
     "execution_count": 96,
     "metadata": {},
     "output_type": "execute_result"
    }
   ],
   "source": [
    "vehicles_df = get_paths(vehicle_dir)\n",
    "vehicles_df.head()"
   ]
  },
  {
   "cell_type": "code",
   "execution_count": 97,
   "metadata": {},
   "outputs": [
    {
     "data": {
      "text/html": [
       "<div>\n",
       "<style scoped>\n",
       "    .dataframe tbody tr th:only-of-type {\n",
       "        vertical-align: middle;\n",
       "    }\n",
       "\n",
       "    .dataframe tbody tr th {\n",
       "        vertical-align: top;\n",
       "    }\n",
       "\n",
       "    .dataframe thead th {\n",
       "        text-align: right;\n",
       "    }\n",
       "</style>\n",
       "<table border=\"1\" class=\"dataframe\">\n",
       "  <thead>\n",
       "    <tr style=\"text-align: right;\">\n",
       "      <th></th>\n",
       "      <th>path</th>\n",
       "      <th>class</th>\n",
       "    </tr>\n",
       "  </thead>\n",
       "  <tbody>\n",
       "    <tr>\n",
       "      <th>0</th>\n",
       "      <td>data/non-vehicles/extra2371.png</td>\n",
       "      <td>0</td>\n",
       "    </tr>\n",
       "    <tr>\n",
       "      <th>1</th>\n",
       "      <td>data/non-vehicles/image2890.png</td>\n",
       "      <td>0</td>\n",
       "    </tr>\n",
       "    <tr>\n",
       "      <th>2</th>\n",
       "      <td>data/non-vehicles/extra643.png</td>\n",
       "      <td>0</td>\n",
       "    </tr>\n",
       "    <tr>\n",
       "      <th>3</th>\n",
       "      <td>data/non-vehicles/image3162.png</td>\n",
       "      <td>0</td>\n",
       "    </tr>\n",
       "    <tr>\n",
       "      <th>4</th>\n",
       "      <td>data/non-vehicles/image3303.png</td>\n",
       "      <td>0</td>\n",
       "    </tr>\n",
       "  </tbody>\n",
       "</table>\n",
       "</div>"
      ],
      "text/plain": [
       "                              path  class\n",
       "0  data/non-vehicles/extra2371.png      0\n",
       "1  data/non-vehicles/image2890.png      0\n",
       "2   data/non-vehicles/extra643.png      0\n",
       "3  data/non-vehicles/image3162.png      0\n",
       "4  data/non-vehicles/image3303.png      0"
      ]
     },
     "execution_count": 97,
     "metadata": {},
     "output_type": "execute_result"
    }
   ],
   "source": [
    "non_vehicles_df = get_paths(non_vehicle_dir)\n",
    "non_vehicles_df.head()"
   ]
  },
  {
   "cell_type": "code",
   "execution_count": 98,
   "metadata": {},
   "outputs": [
    {
     "data": {
      "text/plain": [
       "(17760, 2)"
      ]
     },
     "execution_count": 98,
     "metadata": {},
     "output_type": "execute_result"
    }
   ],
   "source": [
    "df = pd.concat([vehicles_df, non_vehicles_df])\n",
    "df.shape"
   ]
  },
  {
   "cell_type": "code",
   "execution_count": 99,
   "metadata": {},
   "outputs": [
    {
     "data": {
      "text/html": [
       "<div>\n",
       "<style scoped>\n",
       "    .dataframe tbody tr th:only-of-type {\n",
       "        vertical-align: middle;\n",
       "    }\n",
       "\n",
       "    .dataframe tbody tr th {\n",
       "        vertical-align: top;\n",
       "    }\n",
       "\n",
       "    .dataframe thead th {\n",
       "        text-align: right;\n",
       "    }\n",
       "</style>\n",
       "<table border=\"1\" class=\"dataframe\">\n",
       "  <thead>\n",
       "    <tr style=\"text-align: right;\">\n",
       "      <th></th>\n",
       "      <th>path</th>\n",
       "      <th>class</th>\n",
       "    </tr>\n",
       "  </thead>\n",
       "  <tbody>\n",
       "    <tr>\n",
       "      <th>0</th>\n",
       "      <td>data/vehicles/left (739).png</td>\n",
       "      <td>1</td>\n",
       "    </tr>\n",
       "    <tr>\n",
       "      <th>1</th>\n",
       "      <td>data/vehicles/far (366).png</td>\n",
       "      <td>1</td>\n",
       "    </tr>\n",
       "    <tr>\n",
       "      <th>2</th>\n",
       "      <td>data/vehicles/far (644).png</td>\n",
       "      <td>1</td>\n",
       "    </tr>\n",
       "    <tr>\n",
       "      <th>3</th>\n",
       "      <td>data/vehicles/1884.png</td>\n",
       "      <td>1</td>\n",
       "    </tr>\n",
       "    <tr>\n",
       "      <th>4</th>\n",
       "      <td>data/vehicles/5462.png</td>\n",
       "      <td>1</td>\n",
       "    </tr>\n",
       "  </tbody>\n",
       "</table>\n",
       "</div>"
      ],
      "text/plain": [
       "                           path  class\n",
       "0  data/vehicles/left (739).png      1\n",
       "1   data/vehicles/far (366).png      1\n",
       "2   data/vehicles/far (644).png      1\n",
       "3        data/vehicles/1884.png      1\n",
       "4        data/vehicles/5462.png      1"
      ]
     },
     "execution_count": 99,
     "metadata": {},
     "output_type": "execute_result"
    }
   ],
   "source": [
    "df.head()"
   ]
  },
  {
   "cell_type": "code",
   "execution_count": 100,
   "metadata": {},
   "outputs": [
    {
     "data": {
      "text/html": [
       "<div>\n",
       "<style scoped>\n",
       "    .dataframe tbody tr th:only-of-type {\n",
       "        vertical-align: middle;\n",
       "    }\n",
       "\n",
       "    .dataframe tbody tr th {\n",
       "        vertical-align: top;\n",
       "    }\n",
       "\n",
       "    .dataframe thead th {\n",
       "        text-align: right;\n",
       "    }\n",
       "</style>\n",
       "<table border=\"1\" class=\"dataframe\">\n",
       "  <thead>\n",
       "    <tr style=\"text-align: right;\">\n",
       "      <th></th>\n",
       "      <th>path</th>\n",
       "      <th>class</th>\n",
       "    </tr>\n",
       "  </thead>\n",
       "  <tbody>\n",
       "    <tr>\n",
       "      <th>0</th>\n",
       "      <td>data/vehicles/5854.png</td>\n",
       "      <td>1</td>\n",
       "    </tr>\n",
       "    <tr>\n",
       "      <th>1</th>\n",
       "      <td>data/non-vehicles/extra2563.png</td>\n",
       "      <td>0</td>\n",
       "    </tr>\n",
       "    <tr>\n",
       "      <th>2</th>\n",
       "      <td>data/vehicles/far (236).png</td>\n",
       "      <td>1</td>\n",
       "    </tr>\n",
       "    <tr>\n",
       "      <th>3</th>\n",
       "      <td>data/non-vehicles/image3515.png</td>\n",
       "      <td>0</td>\n",
       "    </tr>\n",
       "    <tr>\n",
       "      <th>4</th>\n",
       "      <td>data/vehicles/1632.png</td>\n",
       "      <td>1</td>\n",
       "    </tr>\n",
       "  </tbody>\n",
       "</table>\n",
       "</div>"
      ],
      "text/plain": [
       "                              path  class\n",
       "0           data/vehicles/5854.png      1\n",
       "1  data/non-vehicles/extra2563.png      0\n",
       "2      data/vehicles/far (236).png      1\n",
       "3  data/non-vehicles/image3515.png      0\n",
       "4           data/vehicles/1632.png      1"
      ]
     },
     "execution_count": 100,
     "metadata": {},
     "output_type": "execute_result"
    }
   ],
   "source": [
    "# shuffle dataset using sample\n",
    "df = df.sample(frac=1, random_state=1).reset_index(drop=True)\n",
    "df.head()"
   ]
  },
  {
   "cell_type": "code",
   "execution_count": 101,
   "metadata": {},
   "outputs": [
    {
     "data": {
      "text/html": [
       "<div>\n",
       "<style scoped>\n",
       "    .dataframe tbody tr th:only-of-type {\n",
       "        vertical-align: middle;\n",
       "    }\n",
       "\n",
       "    .dataframe tbody tr th {\n",
       "        vertical-align: top;\n",
       "    }\n",
       "\n",
       "    .dataframe thead th {\n",
       "        text-align: right;\n",
       "    }\n",
       "</style>\n",
       "<table border=\"1\" class=\"dataframe\">\n",
       "  <thead>\n",
       "    <tr style=\"text-align: right;\">\n",
       "      <th></th>\n",
       "      <th>path</th>\n",
       "      <th>class</th>\n",
       "    </tr>\n",
       "  </thead>\n",
       "  <tbody>\n",
       "    <tr>\n",
       "      <th>0</th>\n",
       "      <td>data/vehicles/5854.png</td>\n",
       "      <td>1</td>\n",
       "    </tr>\n",
       "    <tr>\n",
       "      <th>1</th>\n",
       "      <td>data/non-vehicles/extra2563.png</td>\n",
       "      <td>0</td>\n",
       "    </tr>\n",
       "    <tr>\n",
       "      <th>2</th>\n",
       "      <td>data/vehicles/far (236).png</td>\n",
       "      <td>1</td>\n",
       "    </tr>\n",
       "    <tr>\n",
       "      <th>3</th>\n",
       "      <td>data/non-vehicles/image3515.png</td>\n",
       "      <td>0</td>\n",
       "    </tr>\n",
       "    <tr>\n",
       "      <th>4</th>\n",
       "      <td>data/vehicles/1632.png</td>\n",
       "      <td>1</td>\n",
       "    </tr>\n",
       "    <tr>\n",
       "      <th>...</th>\n",
       "      <td>...</td>\n",
       "      <td>...</td>\n",
       "    </tr>\n",
       "    <tr>\n",
       "      <th>195</th>\n",
       "      <td>data/vehicles/684.png</td>\n",
       "      <td>1</td>\n",
       "    </tr>\n",
       "    <tr>\n",
       "      <th>196</th>\n",
       "      <td>data/non-vehicles/extra2991.png</td>\n",
       "      <td>0</td>\n",
       "    </tr>\n",
       "    <tr>\n",
       "      <th>197</th>\n",
       "      <td>data/non-vehicles/image2464.png</td>\n",
       "      <td>0</td>\n",
       "    </tr>\n",
       "    <tr>\n",
       "      <th>198</th>\n",
       "      <td>data/vehicles/1394.png</td>\n",
       "      <td>1</td>\n",
       "    </tr>\n",
       "    <tr>\n",
       "      <th>199</th>\n",
       "      <td>data/vehicles/far (830).png</td>\n",
       "      <td>1</td>\n",
       "    </tr>\n",
       "  </tbody>\n",
       "</table>\n",
       "<p>200 rows × 2 columns</p>\n",
       "</div>"
      ],
      "text/plain": [
       "                                path  class\n",
       "0             data/vehicles/5854.png      1\n",
       "1    data/non-vehicles/extra2563.png      0\n",
       "2        data/vehicles/far (236).png      1\n",
       "3    data/non-vehicles/image3515.png      0\n",
       "4             data/vehicles/1632.png      1\n",
       "..                               ...    ...\n",
       "195            data/vehicles/684.png      1\n",
       "196  data/non-vehicles/extra2991.png      0\n",
       "197  data/non-vehicles/image2464.png      0\n",
       "198           data/vehicles/1394.png      1\n",
       "199      data/vehicles/far (830).png      1\n",
       "\n",
       "[200 rows x 2 columns]"
      ]
     },
     "execution_count": 101,
     "metadata": {},
     "output_type": "execute_result"
    }
   ],
   "source": [
    "# sample for 200 rows first\n",
    "sample_df = df.iloc[:200, :]\n",
    "sample_df"
   ]
  },
  {
   "cell_type": "code",
   "execution_count": 102,
   "metadata": {},
   "outputs": [
    {
     "data": {
      "text/plain": [
       "1    101\n",
       "0     99\n",
       "Name: class, dtype: int64"
      ]
     },
     "execution_count": 102,
     "metadata": {},
     "output_type": "execute_result"
    }
   ],
   "source": [
    "sample_df['class'].value_counts() "
   ]
  },
  {
   "cell_type": "code",
   "execution_count": 103,
   "metadata": {},
   "outputs": [],
   "source": [
    "def load_images(paths, img_size):\n",
    "    images = []\n",
    "    \n",
    "    for path in paths:\n",
    "        img = cv2.imread(path)\n",
    "        img = cv2.resize(img, img_size) #resize the images\n",
    "        img = np.array(img)\n",
    "        \n",
    "        images.append(img)\n",
    "    \n",
    "    images = np.array(images)\n",
    "    images = images.astype(np.int64)\n",
    "    \n",
    "    #scale images\n",
    "    images = images/255\n",
    "    return images"
   ]
  },
  {
   "cell_type": "code",
   "execution_count": 104,
   "metadata": {},
   "outputs": [
    {
     "name": "stdout",
     "output_type": "stream",
     "text": [
      "(200, 64, 64, 3)\n"
     ]
    }
   ],
   "source": [
    "images = load_images(sample_df['path'], (64, 64))\n",
    "print(images.shape)"
   ]
  },
  {
   "cell_type": "code",
   "execution_count": 70,
   "metadata": {},
   "outputs": [],
   "source": [
    "x = images\n",
    "y = sample_df[\"class\"]\n",
    "\n",
    "#train test split - 75% train, 25% test\n",
    "x_training, x_test = x[:150,:], x[150:,:]\n",
    "y_training, y_test = y[:150], y[150:]"
   ]
  },
  {
   "cell_type": "code",
   "execution_count": 71,
   "metadata": {},
   "outputs": [
    {
     "data": {
      "text/plain": [
       "(150, 64, 64, 3)"
      ]
     },
     "execution_count": 71,
     "metadata": {},
     "output_type": "execute_result"
    }
   ],
   "source": [
    "x_training.shape"
   ]
  },
  {
   "cell_type": "code",
   "execution_count": 72,
   "metadata": {},
   "outputs": [
    {
     "data": {
      "text/plain": [
       "(50, 64, 64, 3)"
      ]
     },
     "execution_count": 72,
     "metadata": {},
     "output_type": "execute_result"
    }
   ],
   "source": [
    "x_test.shape"
   ]
  },
  {
   "cell_type": "code",
   "execution_count": 73,
   "metadata": {},
   "outputs": [
    {
     "data": {
      "text/plain": [
       "(150,)"
      ]
     },
     "execution_count": 73,
     "metadata": {},
     "output_type": "execute_result"
    }
   ],
   "source": [
    "y_training.shape"
   ]
  },
  {
   "cell_type": "code",
   "execution_count": 74,
   "metadata": {},
   "outputs": [
    {
     "data": {
      "text/plain": [
       "(50,)"
      ]
     },
     "execution_count": 74,
     "metadata": {},
     "output_type": "execute_result"
    }
   ],
   "source": [
    "y_test.shape"
   ]
  },
  {
   "cell_type": "code",
   "execution_count": 110,
   "metadata": {},
   "outputs": [
    {
     "data": {
      "text/plain": [
       "<tf.Tensor: shape=(150,), dtype=int64, numpy=\n",
       "array([1, 0, 1, 0, 1, 0, 1, 1, 0, 1, 0, 1, 0, 1, 1, 1, 1, 1, 0, 0, 1, 0,\n",
       "       0, 0, 0, 1, 1, 1, 1, 1, 1, 0, 1, 0, 0, 0, 1, 0, 0, 0, 0, 0, 1, 0,\n",
       "       0, 0, 1, 0, 0, 0, 0, 0, 0, 1, 1, 0, 1, 0, 1, 0, 1, 1, 1, 0, 1, 1,\n",
       "       0, 0, 0, 1, 1, 0, 1, 1, 1, 0, 1, 0, 1, 1, 1, 1, 1, 0, 1, 1, 0, 1,\n",
       "       0, 1, 0, 0, 0, 0, 1, 0, 0, 1, 1, 1, 1, 0, 1, 1, 1, 1, 1, 1, 1, 0,\n",
       "       1, 0, 1, 1, 1, 1, 1, 0, 0, 0, 1, 0, 0, 1, 0, 1, 1, 1, 1, 0, 1, 1,\n",
       "       1, 0, 1, 1, 1, 0, 0, 0, 0, 0, 1, 1, 0, 1, 1, 0, 0, 1])>"
      ]
     },
     "execution_count": 110,
     "metadata": {},
     "output_type": "execute_result"
    }
   ],
   "source": [
    "# increases accuracy (even when not using loss function) \n",
    "tf.cast(x_training, tf.int64)\n",
    "tf.cast(y_training, tf.int64)"
   ]
  },
  {
   "cell_type": "markdown",
   "metadata": {},
   "source": [
    "**4. Build the Model**"
   ]
  },
  {
   "cell_type": "code",
   "execution_count": 114,
   "metadata": {},
   "outputs": [],
   "source": [
    "vehicle_model = tf.keras.Sequential([\n",
    "    tf.keras.layers.Flatten(input_shape=(64, 64, 3)),\n",
    "    tf.keras.layers.Dense(16, activation='sigmoid', # first hidden layer has 16 inputs, each nodes activation will be a sigmoid function \n",
    "                          name='fc1', input_shape=(64, 64, 3)), \n",
    "    tf.keras.layers.Dense(3, name='fc2', activation='softmax')])"
   ]
  },
  {
   "cell_type": "code",
   "execution_count": 115,
   "metadata": {},
   "outputs": [
    {
     "name": "stdout",
     "output_type": "stream",
     "text": [
      "Model: \"sequential_7\"\n",
      "_________________________________________________________________\n",
      " Layer (type)                Output Shape              Param #   \n",
      "=================================================================\n",
      " flatten_4 (Flatten)         (None, 12288)             0         \n",
      "                                                                 \n",
      " fc1 (Dense)                 (None, 16)                196624    \n",
      "                                                                 \n",
      " fc2 (Dense)                 (None, 3)                 51        \n",
      "                                                                 \n",
      "=================================================================\n",
      "Total params: 196,675\n",
      "Trainable params: 196,675\n",
      "Non-trainable params: 0\n",
      "_________________________________________________________________\n"
     ]
    }
   ],
   "source": [
    "vehicle_model.summary()"
   ]
  },
  {
   "cell_type": "markdown",
   "metadata": {},
   "source": [
    "**5. Train the Model & 6. Evaluate the Model**"
   ]
  },
  {
   "cell_type": "code",
   "execution_count": 116,
   "metadata": {},
   "outputs": [
    {
     "name": "stdout",
     "output_type": "stream",
     "text": [
      "Epoch 1/100\n",
      "150/150 [==============================] - 1s 2ms/step - loss: 0.2973 - mae: 0.5156 - mse: 0.2973 - acc: 0.3600\n",
      "Epoch 2/100\n",
      "150/150 [==============================] - 0s 2ms/step - loss: 0.2949 - mae: 0.5156 - mse: 0.2949 - acc: 0.3200\n",
      "Epoch 3/100\n",
      "150/150 [==============================] - 0s 2ms/step - loss: 0.2944 - mae: 0.5156 - mse: 0.2944 - acc: 0.3333\n",
      "Epoch 4/100\n",
      "150/150 [==============================] - 0s 2ms/step - loss: 0.2941 - mae: 0.5156 - mse: 0.2941 - acc: 0.3267\n",
      "Epoch 5/100\n",
      "150/150 [==============================] - 0s 2ms/step - loss: 0.2939 - mae: 0.5156 - mse: 0.2939 - acc: 0.3400\n",
      "Epoch 6/100\n",
      "150/150 [==============================] - 0s 2ms/step - loss: 0.2938 - mae: 0.5156 - mse: 0.2938 - acc: 0.3333\n",
      "Epoch 7/100\n",
      "150/150 [==============================] - 0s 2ms/step - loss: 0.2937 - mae: 0.5156 - mse: 0.2937 - acc: 0.2933\n",
      "Epoch 8/100\n",
      "150/150 [==============================] - 0s 2ms/step - loss: 0.2936 - mae: 0.5156 - mse: 0.2936 - acc: 0.3333\n",
      "Epoch 9/100\n",
      "150/150 [==============================] - 0s 2ms/step - loss: 0.2936 - mae: 0.5156 - mse: 0.2936 - acc: 0.2933\n",
      "Epoch 10/100\n",
      "150/150 [==============================] - 0s 2ms/step - loss: 0.2936 - mae: 0.5156 - mse: 0.2936 - acc: 0.3000\n",
      "Epoch 11/100\n",
      "150/150 [==============================] - 0s 2ms/step - loss: 0.2935 - mae: 0.5156 - mse: 0.2935 - acc: 0.3200\n",
      "Epoch 12/100\n",
      "150/150 [==============================] - 0s 2ms/step - loss: 0.2935 - mae: 0.5156 - mse: 0.2935 - acc: 0.3133\n",
      "Epoch 13/100\n",
      "150/150 [==============================] - 0s 2ms/step - loss: 0.2935 - mae: 0.5156 - mse: 0.2935 - acc: 0.3200\n",
      "Epoch 14/100\n",
      "150/150 [==============================] - 0s 2ms/step - loss: 0.2935 - mae: 0.5156 - mse: 0.2935 - acc: 0.3000\n",
      "Epoch 15/100\n",
      "150/150 [==============================] - 0s 2ms/step - loss: 0.2935 - mae: 0.5156 - mse: 0.2935 - acc: 0.3000\n",
      "Epoch 16/100\n",
      "150/150 [==============================] - 0s 2ms/step - loss: 0.2935 - mae: 0.5156 - mse: 0.2935 - acc: 0.3067\n",
      "Epoch 17/100\n",
      "150/150 [==============================] - 0s 2ms/step - loss: 0.2935 - mae: 0.5156 - mse: 0.2935 - acc: 0.3067\n",
      "Epoch 18/100\n",
      "150/150 [==============================] - 0s 2ms/step - loss: 0.2935 - mae: 0.5156 - mse: 0.2935 - acc: 0.3000\n",
      "Epoch 19/100\n",
      "150/150 [==============================] - 0s 2ms/step - loss: 0.2935 - mae: 0.5156 - mse: 0.2935 - acc: 0.3400\n",
      "Epoch 20/100\n",
      "150/150 [==============================] - 0s 2ms/step - loss: 0.2934 - mae: 0.5156 - mse: 0.2934 - acc: 0.3067\n",
      "Epoch 21/100\n",
      "150/150 [==============================] - 0s 2ms/step - loss: 0.2934 - mae: 0.5156 - mse: 0.2934 - acc: 0.3067\n",
      "Epoch 22/100\n",
      "150/150 [==============================] - 0s 2ms/step - loss: 0.2934 - mae: 0.5156 - mse: 0.2934 - acc: 0.3067\n",
      "Epoch 23/100\n",
      "150/150 [==============================] - 0s 2ms/step - loss: 0.2934 - mae: 0.5156 - mse: 0.2934 - acc: 0.3200\n",
      "Epoch 24/100\n",
      "150/150 [==============================] - 0s 2ms/step - loss: 0.2934 - mae: 0.5156 - mse: 0.2934 - acc: 0.3133\n",
      "Epoch 25/100\n",
      "150/150 [==============================] - 0s 2ms/step - loss: 0.2934 - mae: 0.5156 - mse: 0.2934 - acc: 0.3000\n",
      "Epoch 26/100\n",
      "150/150 [==============================] - 0s 2ms/step - loss: 0.2934 - mae: 0.5156 - mse: 0.2934 - acc: 0.3133\n",
      "Epoch 27/100\n",
      "150/150 [==============================] - 0s 2ms/step - loss: 0.2934 - mae: 0.5156 - mse: 0.2934 - acc: 0.3267\n",
      "Epoch 28/100\n",
      "150/150 [==============================] - 0s 2ms/step - loss: 0.2934 - mae: 0.5156 - mse: 0.2934 - acc: 0.3133\n",
      "Epoch 29/100\n",
      "150/150 [==============================] - 0s 2ms/step - loss: 0.2934 - mae: 0.5156 - mse: 0.2934 - acc: 0.3200\n",
      "Epoch 30/100\n",
      "150/150 [==============================] - 0s 2ms/step - loss: 0.2934 - mae: 0.5156 - mse: 0.2934 - acc: 0.3000\n",
      "Epoch 31/100\n",
      "150/150 [==============================] - 0s 2ms/step - loss: 0.2934 - mae: 0.5156 - mse: 0.2934 - acc: 0.3000\n",
      "Epoch 32/100\n",
      "150/150 [==============================] - 0s 2ms/step - loss: 0.2934 - mae: 0.5156 - mse: 0.2934 - acc: 0.2933\n",
      "Epoch 33/100\n",
      "150/150 [==============================] - 0s 2ms/step - loss: 0.2934 - mae: 0.5156 - mse: 0.2934 - acc: 0.3133\n",
      "Epoch 34/100\n",
      "150/150 [==============================] - 0s 2ms/step - loss: 0.2934 - mae: 0.5156 - mse: 0.2934 - acc: 0.3267\n",
      "Epoch 35/100\n",
      "150/150 [==============================] - 0s 2ms/step - loss: 0.2934 - mae: 0.5156 - mse: 0.2934 - acc: 0.3000\n",
      "Epoch 36/100\n",
      "150/150 [==============================] - 0s 2ms/step - loss: 0.2934 - mae: 0.5156 - mse: 0.2934 - acc: 0.3200\n",
      "Epoch 37/100\n",
      "150/150 [==============================] - 0s 2ms/step - loss: 0.2934 - mae: 0.5156 - mse: 0.2934 - acc: 0.3200\n",
      "Epoch 38/100\n",
      "150/150 [==============================] - 0s 2ms/step - loss: 0.2934 - mae: 0.5156 - mse: 0.2934 - acc: 0.3067\n",
      "Epoch 39/100\n",
      "150/150 [==============================] - 0s 2ms/step - loss: 0.2934 - mae: 0.5156 - mse: 0.2934 - acc: 0.3200\n",
      "Epoch 40/100\n",
      "150/150 [==============================] - 0s 2ms/step - loss: 0.2934 - mae: 0.5156 - mse: 0.2934 - acc: 0.3000\n",
      "Epoch 41/100\n",
      "150/150 [==============================] - 0s 2ms/step - loss: 0.2934 - mae: 0.5156 - mse: 0.2934 - acc: 0.2867\n",
      "Epoch 42/100\n",
      "150/150 [==============================] - 0s 2ms/step - loss: 0.2934 - mae: 0.5156 - mse: 0.2934 - acc: 0.3267\n",
      "Epoch 43/100\n",
      "150/150 [==============================] - 0s 1ms/step - loss: 0.2934 - mae: 0.5156 - mse: 0.2934 - acc: 0.3400\n",
      "Epoch 44/100\n",
      "150/150 [==============================] - 0s 2ms/step - loss: 0.2934 - mae: 0.5156 - mse: 0.2934 - acc: 0.3133\n",
      "Epoch 45/100\n",
      "150/150 [==============================] - 0s 2ms/step - loss: 0.2934 - mae: 0.5156 - mse: 0.2934 - acc: 0.3133\n",
      "Epoch 46/100\n",
      "150/150 [==============================] - 0s 2ms/step - loss: 0.2934 - mae: 0.5156 - mse: 0.2934 - acc: 0.3267\n",
      "Epoch 47/100\n",
      "150/150 [==============================] - 0s 2ms/step - loss: 0.2934 - mae: 0.5156 - mse: 0.2934 - acc: 0.3267\n",
      "Epoch 48/100\n",
      "150/150 [==============================] - 0s 2ms/step - loss: 0.2934 - mae: 0.5156 - mse: 0.2934 - acc: 0.3200\n",
      "Epoch 49/100\n",
      "150/150 [==============================] - 0s 2ms/step - loss: 0.2934 - mae: 0.5156 - mse: 0.2934 - acc: 0.3000\n",
      "Epoch 50/100\n",
      "150/150 [==============================] - 0s 2ms/step - loss: 0.2934 - mae: 0.5156 - mse: 0.2934 - acc: 0.2933\n",
      "Epoch 51/100\n",
      "150/150 [==============================] - 0s 2ms/step - loss: 0.2934 - mae: 0.5156 - mse: 0.2934 - acc: 0.3400\n",
      "Epoch 52/100\n",
      "150/150 [==============================] - 0s 2ms/step - loss: 0.2934 - mae: 0.5156 - mse: 0.2934 - acc: 0.2800\n",
      "Epoch 53/100\n",
      "150/150 [==============================] - 0s 2ms/step - loss: 0.2934 - mae: 0.5156 - mse: 0.2934 - acc: 0.3267\n",
      "Epoch 54/100\n",
      "150/150 [==============================] - 0s 2ms/step - loss: 0.2934 - mae: 0.5156 - mse: 0.2934 - acc: 0.3333\n",
      "Epoch 55/100\n",
      "150/150 [==============================] - 0s 2ms/step - loss: 0.2934 - mae: 0.5156 - mse: 0.2934 - acc: 0.3200\n",
      "Epoch 56/100\n",
      "150/150 [==============================] - 0s 2ms/step - loss: 0.2934 - mae: 0.5156 - mse: 0.2934 - acc: 0.3133\n",
      "Epoch 57/100\n",
      "150/150 [==============================] - 0s 2ms/step - loss: 0.2934 - mae: 0.5156 - mse: 0.2934 - acc: 0.3267\n",
      "Epoch 58/100\n",
      "150/150 [==============================] - 0s 2ms/step - loss: 0.2934 - mae: 0.5156 - mse: 0.2934 - acc: 0.3133\n",
      "Epoch 59/100\n",
      "150/150 [==============================] - 0s 2ms/step - loss: 0.2934 - mae: 0.5156 - mse: 0.2934 - acc: 0.3400\n",
      "Epoch 60/100\n",
      "150/150 [==============================] - 0s 2ms/step - loss: 0.2934 - mae: 0.5156 - mse: 0.2934 - acc: 0.3267\n",
      "Epoch 61/100\n",
      "150/150 [==============================] - 0s 2ms/step - loss: 0.2934 - mae: 0.5156 - mse: 0.2934 - acc: 0.3333\n",
      "Epoch 62/100\n",
      "150/150 [==============================] - 0s 2ms/step - loss: 0.2934 - mae: 0.5156 - mse: 0.2934 - acc: 0.3133\n",
      "Epoch 63/100\n",
      "150/150 [==============================] - 0s 2ms/step - loss: 0.2934 - mae: 0.5156 - mse: 0.2934 - acc: 0.3333\n",
      "Epoch 64/100\n",
      "150/150 [==============================] - 0s 2ms/step - loss: 0.2934 - mae: 0.5156 - mse: 0.2934 - acc: 0.3000\n",
      "Epoch 65/100\n",
      "150/150 [==============================] - 0s 2ms/step - loss: 0.2934 - mae: 0.5156 - mse: 0.2934 - acc: 0.3533\n",
      "Epoch 66/100\n",
      "150/150 [==============================] - 0s 2ms/step - loss: 0.2934 - mae: 0.5156 - mse: 0.2934 - acc: 0.3267\n",
      "Epoch 67/100\n",
      "150/150 [==============================] - 0s 2ms/step - loss: 0.2934 - mae: 0.5156 - mse: 0.2934 - acc: 0.3400\n",
      "Epoch 68/100\n",
      "150/150 [==============================] - 0s 2ms/step - loss: 0.2934 - mae: 0.5156 - mse: 0.2934 - acc: 0.3400\n",
      "Epoch 69/100\n",
      "150/150 [==============================] - 0s 2ms/step - loss: 0.2934 - mae: 0.5156 - mse: 0.2934 - acc: 0.3667\n",
      "Epoch 70/100\n",
      "150/150 [==============================] - 0s 2ms/step - loss: 0.2934 - mae: 0.5156 - mse: 0.2934 - acc: 0.3267\n",
      "Epoch 71/100\n",
      "150/150 [==============================] - 0s 2ms/step - loss: 0.2934 - mae: 0.5156 - mse: 0.2934 - acc: 0.3133\n",
      "Epoch 72/100\n",
      "150/150 [==============================] - 0s 2ms/step - loss: 0.2934 - mae: 0.5156 - mse: 0.2934 - acc: 0.3533\n",
      "Epoch 73/100\n",
      "150/150 [==============================] - 0s 2ms/step - loss: 0.2934 - mae: 0.5156 - mse: 0.2934 - acc: 0.3600\n",
      "Epoch 74/100\n",
      "150/150 [==============================] - 0s 2ms/step - loss: 0.2934 - mae: 0.5156 - mse: 0.2934 - acc: 0.3133\n",
      "Epoch 75/100\n",
      "150/150 [==============================] - 0s 2ms/step - loss: 0.2934 - mae: 0.5156 - mse: 0.2934 - acc: 0.3600\n",
      "Epoch 76/100\n",
      "150/150 [==============================] - 0s 2ms/step - loss: 0.2934 - mae: 0.5156 - mse: 0.2934 - acc: 0.3133\n",
      "Epoch 77/100\n",
      "150/150 [==============================] - 0s 2ms/step - loss: 0.2934 - mae: 0.5156 - mse: 0.2934 - acc: 0.3467\n",
      "Epoch 78/100\n",
      "150/150 [==============================] - 0s 2ms/step - loss: 0.2934 - mae: 0.5156 - mse: 0.2934 - acc: 0.3200\n",
      "Epoch 79/100\n",
      "150/150 [==============================] - 0s 2ms/step - loss: 0.2934 - mae: 0.5156 - mse: 0.2934 - acc: 0.3333\n",
      "Epoch 80/100\n",
      "150/150 [==============================] - 0s 2ms/step - loss: 0.2934 - mae: 0.5156 - mse: 0.2934 - acc: 0.3333\n",
      "Epoch 81/100\n",
      "150/150 [==============================] - 0s 2ms/step - loss: 0.2934 - mae: 0.5156 - mse: 0.2934 - acc: 0.3400\n",
      "Epoch 82/100\n",
      "150/150 [==============================] - 0s 2ms/step - loss: 0.2934 - mae: 0.5156 - mse: 0.2934 - acc: 0.3600\n",
      "Epoch 83/100\n",
      "150/150 [==============================] - 0s 2ms/step - loss: 0.2934 - mae: 0.5156 - mse: 0.2934 - acc: 0.3133\n",
      "Epoch 84/100\n",
      "150/150 [==============================] - 0s 2ms/step - loss: 0.2934 - mae: 0.5156 - mse: 0.2934 - acc: 0.3400\n",
      "Epoch 85/100\n",
      "150/150 [==============================] - 0s 2ms/step - loss: 0.2934 - mae: 0.5156 - mse: 0.2934 - acc: 0.3333\n",
      "Epoch 86/100\n",
      "150/150 [==============================] - 0s 2ms/step - loss: 0.2934 - mae: 0.5156 - mse: 0.2934 - acc: 0.3467\n",
      "Epoch 87/100\n",
      "150/150 [==============================] - 0s 2ms/step - loss: 0.2934 - mae: 0.5156 - mse: 0.2934 - acc: 0.3533\n",
      "Epoch 88/100\n",
      "150/150 [==============================] - 0s 2ms/step - loss: 0.2934 - mae: 0.5156 - mse: 0.2934 - acc: 0.3333\n",
      "Epoch 89/100\n",
      "150/150 [==============================] - 0s 2ms/step - loss: 0.2934 - mae: 0.5156 - mse: 0.2934 - acc: 0.3800\n",
      "Epoch 90/100\n",
      "150/150 [==============================] - 0s 2ms/step - loss: 0.2934 - mae: 0.5156 - mse: 0.2934 - acc: 0.3200\n",
      "Epoch 91/100\n",
      "150/150 [==============================] - 0s 2ms/step - loss: 0.2934 - mae: 0.5156 - mse: 0.2934 - acc: 0.3533\n",
      "Epoch 92/100\n",
      "150/150 [==============================] - 0s 2ms/step - loss: 0.2934 - mae: 0.5156 - mse: 0.2934 - acc: 0.3467\n",
      "Epoch 93/100\n",
      "150/150 [==============================] - 0s 2ms/step - loss: 0.2934 - mae: 0.5156 - mse: 0.2934 - acc: 0.3667\n",
      "Epoch 94/100\n",
      "150/150 [==============================] - 0s 2ms/step - loss: 0.2934 - mae: 0.5156 - mse: 0.2934 - acc: 0.3467\n",
      "Epoch 95/100\n",
      "150/150 [==============================] - 0s 2ms/step - loss: 0.2934 - mae: 0.5156 - mse: 0.2934 - acc: 0.3533\n",
      "Epoch 96/100\n",
      "150/150 [==============================] - 0s 2ms/step - loss: 0.2934 - mae: 0.5156 - mse: 0.2934 - acc: 0.3400\n",
      "Epoch 97/100\n",
      "150/150 [==============================] - 0s 2ms/step - loss: 0.2934 - mae: 0.5156 - mse: 0.2934 - acc: 0.3467\n",
      "Epoch 98/100\n",
      "150/150 [==============================] - 0s 2ms/step - loss: 0.2934 - mae: 0.5156 - mse: 0.2934 - acc: 0.3467\n",
      "Epoch 99/100\n",
      "150/150 [==============================] - 0s 2ms/step - loss: 0.2934 - mae: 0.5156 - mse: 0.2934 - acc: 0.3067\n",
      "Epoch 100/100\n",
      "150/150 [==============================] - 0s 2ms/step - loss: 0.2934 - mae: 0.5156 - mse: 0.2934 - acc: 0.3533\n"
     ]
    },
    {
     "data": {
      "text/plain": [
       "<keras.callbacks.History at 0x7f2828d22d70>"
      ]
     },
     "execution_count": 116,
     "metadata": {},
     "output_type": "execute_result"
    }
   ],
   "source": [
    "vehicle_model.compile(optimizer='sgd', \n",
    "              loss=\"mse\",\n",
    "              metrics=['mae', 'mse', 'acc'])\n",
    "vehicle_model.fit(x_training, y_training, \n",
    "                  epochs = 100, \n",
    "                  batch_size = 1,\n",
    "                  verbose = 1)"
   ]
  },
  {
   "cell_type": "markdown",
   "metadata": {},
   "source": [
    "**7. Make Predictions**"
   ]
  },
  {
   "cell_type": "code",
   "execution_count": 117,
   "metadata": {},
   "outputs": [
    {
     "name": "stdout",
     "output_type": "stream",
     "text": [
      "WARNING:tensorflow:6 out of the last 11 calls to <function Model.make_predict_function.<locals>.predict_function at 0x7f282873ff40> triggered tf.function retracing. Tracing is expensive and the excessive number of tracings could be due to (1) creating @tf.function repeatedly in a loop, (2) passing tensors with different shapes, (3) passing Python objects instead of tensors. For (1), please define your @tf.function outside of the loop. For (2), @tf.function has reduce_retracing=True option that can avoid unnecessary retracing. For (3), please refer to https://www.tensorflow.org/guide/function#controlling_retracing and https://www.tensorflow.org/api_docs/python/tf/function for  more details.\n",
      "2/2 [==============================] - 0s 3ms/step\n"
     ]
    },
    {
     "data": {
      "text/plain": [
       "array([[0.35448164, 0.30281898, 0.3426995 ],\n",
       "       [0.33444676, 0.33765864, 0.32789463],\n",
       "       [0.34821674, 0.32778555, 0.32399765],\n",
       "       [0.33111715, 0.3343126 , 0.3345703 ],\n",
       "       [0.32607234, 0.33792514, 0.33600244],\n",
       "       [0.32564735, 0.33440956, 0.33994302],\n",
       "       [0.33184266, 0.33715045, 0.3310069 ],\n",
       "       [0.31613562, 0.34111002, 0.34275436],\n",
       "       [0.33397943, 0.33846214, 0.3275585 ],\n",
       "       [0.34200925, 0.3433384 , 0.31465235],\n",
       "       [0.38936293, 0.31482053, 0.29581648],\n",
       "       [0.32929146, 0.3317872 , 0.3389214 ],\n",
       "       [0.35664186, 0.30616763, 0.33719063],\n",
       "       [0.33998293, 0.3332852 , 0.32673192],\n",
       "       [0.3187748 , 0.33060348, 0.35062176],\n",
       "       [0.31945804, 0.33132297, 0.34921893],\n",
       "       [0.337103  , 0.34115532, 0.32174167],\n",
       "       [0.32848194, 0.33767626, 0.33384165],\n",
       "       [0.33411446, 0.33512446, 0.33076113],\n",
       "       [0.3201993 , 0.34090415, 0.3388966 ],\n",
       "       [0.31806877, 0.34479758, 0.33713368],\n",
       "       [0.31738514, 0.33875647, 0.34385836],\n",
       "       [0.3699842 , 0.32181415, 0.3082016 ],\n",
       "       [0.32671353, 0.33995804, 0.33332834],\n",
       "       [0.31937137, 0.3379374 , 0.34269106],\n",
       "       [0.32994318, 0.33350682, 0.33654997],\n",
       "       [0.32841337, 0.34077793, 0.33080858],\n",
       "       [0.34037858, 0.33669883, 0.32292262],\n",
       "       [0.3317407 , 0.34225267, 0.32600665],\n",
       "       [0.33969083, 0.3259203 , 0.33438888],\n",
       "       [0.34314707, 0.3214814 , 0.3353714 ],\n",
       "       [0.32814664, 0.33597863, 0.33587465],\n",
       "       [0.3394598 , 0.3261711 , 0.33436912],\n",
       "       [0.33694467, 0.34302354, 0.32003176],\n",
       "       [0.3230777 , 0.33509994, 0.34182233],\n",
       "       [0.34037796, 0.34473297, 0.314889  ],\n",
       "       [0.3286426 , 0.3419822 , 0.32937518],\n",
       "       [0.34561163, 0.32369262, 0.3306958 ],\n",
       "       [0.3335969 , 0.33665535, 0.32974777],\n",
       "       [0.33339337, 0.33858845, 0.32801816],\n",
       "       [0.3324479 , 0.3307715 , 0.33678058],\n",
       "       [0.3294712 , 0.33649507, 0.33403355],\n",
       "       [0.32531345, 0.33608896, 0.3385976 ],\n",
       "       [0.35843396, 0.31106994, 0.3304961 ],\n",
       "       [0.3200112 , 0.3420082 , 0.3379806 ],\n",
       "       [0.33339998, 0.3213827 , 0.34521723],\n",
       "       [0.35459203, 0.32401976, 0.32138816],\n",
       "       [0.34406218, 0.33064345, 0.32529432],\n",
       "       [0.32768303, 0.31368276, 0.35863423],\n",
       "       [0.31776053, 0.35577893, 0.32646063]], dtype=float32)"
      ]
     },
     "execution_count": 117,
     "metadata": {},
     "output_type": "execute_result"
    }
   ],
   "source": [
    "y_pred = vehicle_model.predict(x_test)\n",
    "y_pred\n"
   ]
  },
  {
   "cell_type": "code",
   "execution_count": 118,
   "metadata": {},
   "outputs": [
    {
     "name": "stdout",
     "output_type": "stream",
     "text": [
      "7/7 - 0s - loss: 0.2795 - mae: 0.5017 - mse: 0.2795 - acc: 0.3750 - 136ms/epoch - 19ms/step\n"
     ]
    }
   ],
   "source": [
    "test_loss = vehicle_model.evaluate(x,  y, verbose=2)"
   ]
  },
  {
   "cell_type": "code",
   "execution_count": 119,
   "metadata": {},
   "outputs": [],
   "source": [
    "probability_model = tf.keras.Sequential([vehicle_model, \n",
    "                                         tf.keras.layers.Softmax()])"
   ]
  },
  {
   "cell_type": "code",
   "execution_count": 120,
   "metadata": {},
   "outputs": [
    {
     "name": "stdout",
     "output_type": "stream",
     "text": [
      "2/2 [==============================] - 0s 3ms/step\n"
     ]
    }
   ],
   "source": [
    "predictions = probability_model.predict(x_test)"
   ]
  },
  {
   "cell_type": "code",
   "execution_count": 121,
   "metadata": {},
   "outputs": [
    {
     "data": {
      "text/plain": [
       "array([0.340375  , 0.32323682, 0.33638817], dtype=float32)"
      ]
     },
     "execution_count": 121,
     "metadata": {},
     "output_type": "execute_result"
    }
   ],
   "source": [
    "# Example: the first prediction. \n",
    "predictions[0]"
   ]
  },
  {
   "cell_type": "markdown",
   "metadata": {},
   "source": [
    "Predictions returns a number for each class which represents the probability of it being in that class. "
   ]
  }
 ],
 "metadata": {
  "kernelspec": {
   "display_name": "Python 3 (ipykernel)",
   "language": "python",
   "name": "python3"
  },
  "language_info": {
   "codemirror_mode": {
    "name": "ipython",
    "version": 3
   },
   "file_extension": ".py",
   "mimetype": "text/x-python",
   "name": "python",
   "nbconvert_exporter": "python",
   "pygments_lexer": "ipython3",
   "version": "3.10.5"
  }
 },
 "nbformat": 4,
 "nbformat_minor": 4
}
